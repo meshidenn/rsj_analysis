{
 "cells": [
  {
   "cell_type": "code",
   "execution_count": 1,
   "id": "670daf62",
   "metadata": {},
   "outputs": [
    {
     "name": "stderr",
     "output_type": "stream",
     "text": [
      "/home/iida.h/work/IR/rsj_analysis/.venv/lib/python3.10/site-packages/beir/util.py:2: TqdmExperimentalWarning: Using `tqdm.autonotebook.tqdm` in notebook mode. Use `tqdm.tqdm` instead to force console mode (e.g. in jupyter console)\n",
      "  from tqdm.autonotebook import tqdm\n",
      "/home/iida.h/work/IR/rsj_analysis/.venv/lib/python3.10/site-packages/torch/cuda/__init__.py:138: UserWarning: CUDA initialization: The NVIDIA driver on your system is too old (found version 11040). Please update your GPU driver by downloading and installing a new version from the URL: http://www.nvidia.com/Download/index.aspx Alternatively, go to: https://pytorch.org to install a PyTorch version that has been compiled with your version of the CUDA driver. (Triggered internally at ../c10/cuda/CUDAFunctions.cpp:108.)\n",
      "  return torch._C._cuda_getDeviceCount() > 0\n"
     ]
    }
   ],
   "source": [
    "import os\n",
    "from collections import defaultdict\n",
    "from pathlib import Path\n",
    "\n",
    "import matplotlib.pyplot as plt\n",
    "import pandas\n",
    "import pandas as pd\n",
    "import seaborn as sns\n",
    "from beir import util\n",
    "from beir.retrieval import models\n",
    "from beir.datasets.data_loader import GenericDataLoader\n",
    "from beir.retrieval.evaluation import EvaluateRetrieval\n",
    "from beir.retrieval.search.dense import DenseRetrievalExactSearch as DRES\n",
    "from pyserini.analysis import Analyzer, get_lucene_analyzer\n",
    "from pyserini.search.lucene import LuceneSearcher\n",
    "from pytrec_eval import RelevanceEvaluator\n",
    "from tqdm.notebook import tqdm\n",
    "\n",
    "from rsj_analysis import InvertedIndex, RSJCalculator, NumBinner, analyze"
   ]
  },
  {
   "cell_type": "code",
   "execution_count": 2,
   "id": "45e1caba",
   "metadata": {},
   "outputs": [],
   "source": [
    "analyzer = Analyzer(get_lucene_analyzer())"
   ]
  },
  {
   "cell_type": "code",
   "execution_count": 3,
   "id": "34d30d58-f3eb-4f0c-bb90-4ec6175d975a",
   "metadata": {},
   "outputs": [],
   "source": [
    "os.makedirs(\"datasets\", exist_ok=True)\n",
    "\n",
    "dataset = \"nfcorpus\"\n",
    "url = \"https://public.ukp.informatik.tu-darmstadt.de/thakur/BEIR/datasets/{}.zip\".format(dataset)\n",
    "out_dir = os.path.join(Path.cwd(), \"datasets\")\n",
    "data_path = util.download_and_unzip(url, out_dir)"
   ]
  },
  {
   "cell_type": "code",
   "execution_count": 4,
   "id": "efaf7ee4-a225-4d8b-993c-71c995730b64",
   "metadata": {},
   "outputs": [
    {
     "data": {
      "application/vnd.jupyter.widget-view+json": {
       "model_id": "519ab26bb7a14b24b9aa0c96e1b227eb",
       "version_major": 2,
       "version_minor": 0
      },
      "text/plain": [
       "  0%|          | 0/3633 [00:00<?, ?it/s]"
      ]
     },
     "metadata": {},
     "output_type": "display_data"
    }
   ],
   "source": [
    "data_path = f\"./datasets/{dataset}\"\n",
    "corpus, queries, qrels = GenericDataLoader(data_folder=data_path).load(split=\"test\")"
   ]
  },
  {
   "cell_type": "code",
   "execution_count": null,
   "id": "c1fc6f37-c3ca-4844-9f89-a82adad354fe",
   "metadata": {},
   "outputs": [
    {
     "data": {
      "application/vnd.jupyter.widget-view+json": {
       "model_id": "b2faf37479de49909e157660c254ea7a",
       "version_major": 2,
       "version_minor": 0
      },
      "text/plain": [
       "Batches:   0%|          | 0/21 [00:00<?, ?it/s]"
      ]
     },
     "metadata": {},
     "output_type": "display_data"
    },
    {
     "data": {
      "application/vnd.jupyter.widget-view+json": {
       "model_id": "623e5fe3277543159f4e7e7c05bc5fc1",
       "version_major": 2,
       "version_minor": 0
      },
      "text/plain": [
       "Batches:   0%|          | 0/228 [00:00<?, ?it/s]"
      ]
     },
     "metadata": {},
     "output_type": "display_data"
    }
   ],
   "source": [
    "#### Load the SBERT model and retrieve using cosine-similarity\n",
    "model = DRES(models.SentenceBERT(\"msmarco-distilbert-base-tas-b\"), batch_size=16)\n",
    "retriever = EvaluateRetrieval(model, score_function=\"dot\") # or \"cos_sim\" for cosine similarity\n",
    "dense_results = retriever.retrieve(corpus, queries)"
   ]
  },
  {
   "cell_type": "code",
   "execution_count": null,
   "id": "b4788bd4-d297-4bfa-ac2a-d867c8a5a245",
   "metadata": {},
   "outputs": [],
   "source": [
    "def hits_iterator(hits):\n",
    "    rank = 1\n",
    "    for hit in hits:\n",
    "        docid = hit.docid.strip()\n",
    "        yield docid, rank, hit.score, hit\n",
    "\n",
    "        rank = rank + 1"
   ]
  },
  {
   "cell_type": "code",
   "execution_count": null,
   "id": "5886280d-e7e5-4663-bc93-36f5f1931bef",
   "metadata": {},
   "outputs": [],
   "source": [
    "searcher = LuceneSearcher.from_prebuilt_index('beir-v1.0.0-nfcorpus.flat')\n",
    "bm25_results = defaultdict(dict)\n",
    "\n",
    "top_k = 100\n",
    "for qid, query in tqdm(queries.items()):\n",
    "    hits = searcher.search(query, top_k, query_generator=None, fields=dict())\n",
    "    for did, rank, score, _ in hits_iterator(hits):\n",
    "        bm25_results[qid][did] = score"
   ]
  },
  {
   "cell_type": "code",
   "execution_count": null,
   "id": "40716fb4-f269-4338-9cac-7a21aa333671",
   "metadata": {},
   "outputs": [],
   "source": [
    "index = InvertedIndex(corpus, analyzer.analyze)\n",
    "rsj_calculator = RSJCalculator(index, queries, qrels)\n",
    "binner = NumBinner(rsj_calculator.rsj, 5)\n",
    "\n",
    "df_bin_bm25 = analyze(bm25_results, rsj_calculator, binner)\n",
    "df_bin_dense = analyze(dense_results, rsj_calculator, binner)"
   ]
  },
  {
   "cell_type": "code",
   "execution_count": null,
   "id": "6bf250e4-d5e5-48f3-8023-6cdf0f7ac2cf",
   "metadata": {},
   "outputs": [],
   "source": [
    "df_bin_bm25 = pd.concat([df_bin_bm25, pd.DataFrame({\"retriever\":[\"BM25\"] * len(df_bin_bm25.index)})], axis=1)\n",
    "df_bin_dense = pd.concat([df_bin_dense, pd.DataFrame({\"retriever\":[\"Dense\"] * len(df_bin_dense.index)})], axis=1)\n",
    "df_result = pd.concat([df_bin_bm25, df_bin_dense], ignore_index=True)\n",
    "df_result[\"bin\"] = df_result[\"bin\"].apply(lambda x: str(x))\n",
    "df_result"
   ]
  },
  {
   "cell_type": "code",
   "execution_count": null,
   "id": "719be6e9-336d-4064-97a9-f59651d0f023",
   "metadata": {},
   "outputs": [],
   "source": [
    "df_result[\"retriever\"].unique()"
   ]
  },
  {
   "cell_type": "code",
   "execution_count": null,
   "id": "de541ec0-9366-4604-a996-d201c1a268a9",
   "metadata": {},
   "outputs": [],
   "source": [
    "bin_names = df_result[\"bin\"].unique()\n",
    "bin_names = sorted(bin_names, key=lambda x: x[0])\n",
    "fig, ax = plt.subplots(figsize=(12, 6))\n",
    "sns.set_style(style=\"whitegrid\")\n",
    "p = sns.boxplot(x='bin', y='ΔRSJ', hue=\"retriever\", data=df_result, ax=ax)\n",
    "# p = sns.boxplot(x=df_result['retriever'], y=df_result['ΔRSJ'], ax=ax)\n",
    "p.set_xticklabels(bin_names, fontsize=16)\n",
    "p.set_yticklabels(p.get_yticks(), fontsize=16)\n",
    "p.set_xlabel(\"RSJ$_{t, Q}$\", fontsize=2)\n",
    "p.set_ylabel(\"$\\Delta$ RSJ$_{t, Q}$\", fontsize=20)\n",
    "plt.legend(fontsize='x-large')\n",
    "fig = plt.figure()\n",
    "fig = p.get_figure()"
   ]
  },
  {
   "cell_type": "code",
   "execution_count": null,
   "id": "554106c4-f75c-43f0-b908-a71afb1e3570",
   "metadata": {},
   "outputs": [],
   "source": []
  }
 ],
 "metadata": {
  "kernelspec": {
   "display_name": "Python 3 (ipykernel)",
   "language": "python",
   "name": "python3"
  },
  "language_info": {
   "codemirror_mode": {
    "name": "ipython",
    "version": 3
   },
   "file_extension": ".py",
   "mimetype": "text/x-python",
   "name": "python",
   "nbconvert_exporter": "python",
   "pygments_lexer": "ipython3",
   "version": "3.10.12"
  }
 },
 "nbformat": 4,
 "nbformat_minor": 5
}
